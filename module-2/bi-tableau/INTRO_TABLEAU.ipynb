{
 "cells": [
  {
   "cell_type": "markdown",
   "metadata": {},
   "source": [
    "ENLACE LAB INTRO TABLEAU:\n",
    "\n",
    "https://public.tableau.com/app/profile/pablo.montes.grande/viz/LAB1_4_16446936834590/Historia11"
   ]
  }
 ],
 "metadata": {
  "language_info": {
   "name": "python"
  },
  "orig_nbformat": 4
 },
 "nbformat": 4,
 "nbformat_minor": 2
}
