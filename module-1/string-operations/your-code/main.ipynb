{
 "cells": [
  {
   "cell_type": "markdown",
   "metadata": {},
   "source": [
    "# Before your start:\n",
    "- Read the README.md file\n",
    "- Comment as much as you can and use the resources in the README.md file\n",
    "- Happy learning!"
   ]
  },
  {
   "cell_type": "code",
   "execution_count": null,
   "metadata": {},
   "outputs": [],
   "source": [
    "import re"
   ]
  },
  {
   "cell_type": "markdown",
   "metadata": {},
   "source": [
    "# Challenge 1 - Combining Strings\n",
    "\n",
    "Combining strings is an important skill to acquire. There are multiple ways of combining strings in Python, as well as combining strings with variables. We will explore this in the first challenge. In the cell below, combine the strings in the list and add spaces between the strings (do not add a space after the last string). Insert a period after the last string."
   ]
  },
  {
   "cell_type": "code",
   "execution_count": null,
   "metadata": {},
   "outputs": [],
   "source": [
    "str_list = ['Durante', 'un', 'tiempo', 'no', 'estuvo', 'segura', 'de', 'si', 'su', 'marido', 'era', 'su', 'marido']\n",
    "str_list = ['Durante', 'un', 'tiempo', 'no', 'estuvo', 'segura', 'de', 'si', 'su', 'marido', 'era', 'su', 'marido']\n",
    "str_list_join = \" \".join(str_list) #CON ESTA FUNCION AÑADIMOS LOS DIFERENTES STRINGS DE UNA LISTA EN UN SOLO STRING.\n",
    "print(\" \".join(str_list))\n",
    "print(type(str_list_join)) #PODEMOS VER QUE ES CLASS STRING EL OBJETO QUE OBTENEMOS.\n",
    "\n"
   ]
  },
  {
   "cell_type": "markdown",
   "metadata": {},
   "source": [
    "In the cell below, use the list of strings to create a grocery list. Start the list with the string `Grocery list: ` and include a comma and a space between each item except for the last one. Include a period at the end. Only include foods in the list that start with the letter 'b' and ensure all foods are lower case."
   ]
  },
  {
   "cell_type": "code",
   "execution_count": null,
   "metadata": {},
   "outputs": [],
   "source": [
    "import re \n",
    "food_list = ['Bananas', 'Chocolate', 'bread', 'diapers', 'Ice Cream', 'Brownie Mix', 'broccoli']\n",
    "\n",
    "\n",
    "food_list = str(food_list)\n",
    "    \n",
    "minusculas = re.findall(\"b\\w+\",food_list)\n",
    "\n",
    "\n",
    "mayusculas = re.findall(\"B\\w+\",food_list)\n",
    "\n",
    "\n",
    "print(type(new_list))\n",
    "\n",
    "new_list = [\"grocery list:\"]+ minusculas + mayusculas #EN LA LISTA LE ASIGNO EL PRIMERO ELEMENTO QUE YA LO TENGO CREADO, Y UNO LAS DOS LISTAS QUE CREE YO DE MINUSCULAS Y MAYUSCULAS CON UN OPERADOR SIMPLE.\n",
    "\n",
    "\n",
    "print(new_list)"
   ]
  },
  {
   "cell_type": "markdown",
   "metadata": {},
   "source": [
    "In the cell below, write a function that computes the area of a circle using its radius. Compute the area of the circle and insert the radius and the area between the two strings. Make sure to include spaces between the variable and the strings. \n",
    "\n",
    "Note: You can use the techniques we have learned so far or use f-strings. F-strings allow us to embed code inside strings. You can read more about f-strings [here](https://www.python.org/dev/peps/pep-0498/)."
   ]
  },
  {
   "cell_type": "code",
   "execution_count": null,
   "metadata": {},
   "outputs": [],
   "source": [
    "#el area del circulo sera A = PI*(r**2)\n",
    "\n",
    "\n",
    "import math\n",
    "\n",
    "string1 = \"The area of the circle with radius:\"\n",
    "string2  = \"is:\"\n",
    "radius = 4.5\n",
    "r = str(radius)\n",
    "\n",
    "def area(x, pi = math.pi):\n",
    "    return area\n",
    "\n",
    "pi = math.pi\n",
    "area = pi*(radius**2)\n",
    "area = str(area)\n",
    "print(string1 + \" \" + r+\" \"+string2 + \" \" + area)\n",
    "    \n",
    "    \n",
    "# Your output string here:"
   ]
  },
  {
   "cell_type": "markdown",
   "metadata": {},
   "source": [
    "# Challenge 2 - Splitting Strings\n",
    "\n",
    "We have first looked at combining strings into one long string. There are times where we need to do the opposite and split the string into smaller components for further analysis. \n",
    "\n",
    "In the cell below, split the string into a list of strings using the space delimiter. Count the frequency of each word in the string in a dictionary. Strip the periods, line breaks and commas from the text. Make sure to remove empty strings from your dictionary."
   ]
  },
  {
   "cell_type": "code",
   "execution_count": null,
   "metadata": {},
   "outputs": [],
   "source": [
    "poem = \"\"\"Some say the world will end in fire,\n",
    "Some say in ice.\n",
    "From what I’ve tasted of desire\n",
    "I hold with those who favor fire.\n",
    "But if it had to perish twice,\n",
    "I think I know enough of hate\n",
    "To say that for destruction ice\n",
    "Is also great\n",
    "And would suffice.\"\"\"\n",
    "\n",
    "\n",
    "a = poem.split(\" \")\n",
    "freq_a = []\n",
    "for i in a:\n",
    "    freq_a.append(a.count(i))\n",
    "b = str(list(zip(a,freq_a)))\n",
    "\n",
    "b"
   ]
  },
  {
   "cell_type": "markdown",
   "metadata": {},
   "source": [
    "In the cell below, find all the words that appear in the text and do not appear in the blacklist. You must parse the string but can choose any data structure you wish for the words that do not appear in the blacklist. Remove all non letter characters and convert all words to lower case."
   ]
  },
  {
   "cell_type": "code",
   "execution_count": null,
   "metadata": {},
   "outputs": [],
   "source": [
    "blacklist = ['and', 'as', 'an', 'a', 'the', 'in', 'it']\n",
    "\n",
    "poem = \"\"\"I was angry with my friend; \n",
    "I told my wrath, my wrath did end.\n",
    "I was angry with my foe: \n",
    "I told it not, my wrath did grow. \n",
    "\n",
    "And I waterd it in fears,\n",
    "Night & morning with my tears: \n",
    "And I sunned it with smiles,\n",
    "And with soft deceitful wiles. \n",
    "\n",
    "And it grew both day and night. \n",
    "Till it bore an apple bright. \n",
    "And my foe beheld it shine,\n",
    "And he knew that it was mine. \n",
    "\n",
    "And into my garden stole, \n",
    "When the night had veild the pole; \n",
    "In the morning glad I see; \n",
    "My foe outstretched beneath the tree.\"\"\"\n",
    "\n",
    "\n",
    "import re\n",
    "\n",
    "poem = re.sub(\"\\.|\\,|\\:|\\;|\\n\" , \"\", poem) #LIMPIAMOS TODOS LOS DATOS DE PUNTOS, PUNTOS Y COMAS ETC, MUCHO CUIDADO EL \\n tambien tenemos que quitarlo que es el cambio de linea.\n",
    "\n",
    "\n",
    "poem = poem.split(\" \") #CUANDO SE ENCUENTRE UN ESPACIO SE PARARA Y ME COGERA LA SIGUIENTE PALABRA PARA MI LISTA\n",
    "\n",
    "print(poem)\n",
    "\n",
    "\n",
    "lista_nueva = [] #LISTA VACIA QUE VAMOS A IR LLENANDO POCO A POCO.\n",
    "\n",
    "#AHORA YA PODEMOS RECORRER ESTA LISTA CON UN BUCLE FOR Y COMPARAR:\n",
    "\n",
    "for word in poem:\n",
    "    \n",
    "    \n",
    "    \n",
    "    \n",
    "    if word not in blacklist:\n",
    "        \n",
    "        lista_nueva.append(word)  #NO USAR EL += PORQUE ME AÑADE CARACTER A CARACTER.\n",
    "        \n",
    "        \n",
    "        \n",
    "    elif word in blacklist:\n",
    "        \n",
    "        print(\"word is in poem\")\n",
    "\n",
    "\n",
    "print(lista_nueva)  "
   ]
  },
  {
   "cell_type": "markdown",
   "metadata": {},
   "source": [
    "# Challenge 3 - Regular Expressions\n",
    "\n",
    "Sometimes, we would like to perform more complex manipulations of our string. This is where regular expressions come in handy. In the cell below, return all characters that are upper case from the string specified below."
   ]
  },
  {
   "cell_type": "code",
   "execution_count": null,
   "metadata": {},
   "outputs": [],
   "source": [
    "poem = \"\"\"The apparition of these faces in the crowd;\n",
    "Petals on a wet, black bough.\"\"\"\n",
    "\n",
    "import re\n",
    "\n",
    "caracteres_encontrados = re.findall(\"[A-Z]\",poem)\n",
    "print(caracteres_encontrados)"
   ]
  },
  {
   "cell_type": "markdown",
   "metadata": {},
   "source": [
    "In the cell below, filter the list provided and return all elements of the list containing a number. To filter the list, use the `re.search` function. Check if the function does not return `None`. You can read more about the `re.search` function [here](https://docs.python.org/3/library/re.html)."
   ]
  },
  {
   "cell_type": "code",
   "execution_count": null,
   "metadata": {},
   "outputs": [],
   "source": [
    "data = ['123abc', 'abc123', 'JohnSmith1', 'ABBY4', 'JANE']\n",
    "\n",
    "data = \" \".join(data) #ME JUNTO TODOS LOS ELEMENTOS DE LA LISTA, Y CUANDO YA ESTEN JUNTOS ES CUANDO BUSCO SOLO LOS CARACTERES QUE SEAN NUMEROS.\n",
    "data2 =str(data)\n",
    "pattern = \"[0-9]\"  #EN ESTE CASO PONGO AQUI EL PATRON PORQUE LO VOY A TENER QUE \n",
    "re.search(pattern,data2)\n",
    "re.findall(pattern, data2)"
   ]
  },
  {
   "cell_type": "markdown",
   "metadata": {},
   "source": [
    "# Bonus Challenge - Regular Expressions II\n",
    "\n",
    "In the cell below, filter the list provided to keep only strings containing at least one digit and at least one lower case letter. As in the previous question, use the `re.search` function and check that the result is not `None`.\n",
    "\n",
    "To read more about regular expressions, check out [this link](https://developers.google.com/edu/python/regular-expressions)."
   ]
  },
  {
   "cell_type": "code",
   "execution_count": null,
   "metadata": {},
   "outputs": [],
   "source": [
    "data = ['123abc', 'abc123', 'JohnSmith1', 'ABBY4', 'JANE']\n",
    "# Your code here:\n"
   ]
  }
 ],
 "metadata": {
  "kernelspec": {
   "display_name": "Python [conda env:jp_env] *",
   "language": "python",
   "name": "conda-env-jp_env-py"
  },
  "language_info": {
   "codemirror_mode": {
    "name": "ipython",
    "version": 3
   },
   "file_extension": ".py",
   "mimetype": "text/x-python",
   "name": "python",
   "nbconvert_exporter": "python",
   "pygments_lexer": "ipython3",
   "version": "3.7.11"
  }
 },
 "nbformat": 4,
 "nbformat_minor": 2
}
