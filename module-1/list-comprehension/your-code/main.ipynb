{
 "cells": [
  {
   "cell_type": "markdown",
   "metadata": {},
   "source": [
    "# List Comprehensions\n",
    "\n",
    "Complete the following set of exercises to solidify your knowledge of list comprehensions."
   ]
  },
  {
   "cell_type": "code",
   "execution_count": 10,
   "metadata": {},
   "outputs": [
    {
     "ename": "SyntaxError",
     "evalue": "invalid syntax (1464140642.py, line 2)",
     "output_type": "error",
     "traceback": [
      "\u001b[0;36m  File \u001b[0;32m\"/var/folders/y7/0kpvlnh10_q_n3y4x22wmk840000gn/T/ipykernel_21950/1464140642.py\"\u001b[0;36m, line \u001b[0;32m2\u001b[0m\n\u001b[0;31m    .\u001b[0m\n\u001b[0m    ^\u001b[0m\n\u001b[0;31mSyntaxError\u001b[0m\u001b[0;31m:\u001b[0m invalid syntax\n"
     ]
    }
   ],
   "source": [
    "import os;\n",
    "."
   ]
  },
  {
   "cell_type": "markdown",
   "metadata": {},
   "source": [
    "#### 1. Use a list comprehension to create and print a list of consecutive integers starting with 1 and ending with 50."
   ]
  },
  {
   "cell_type": "code",
   "execution_count": 3,
   "metadata": {},
   "outputs": [
    {
     "name": "stdout",
     "output_type": "stream",
     "text": [
      "[1, 2, 3, 4, 5, 6, 7, 8, 9, 10, 11, 12, 13, 14, 15, 16, 17, 18, 19, 20, 21, 22, 23, 24, 25, 26, 27, 28, 29, 30, 31, 32, 33, 34, 35, 36, 37, 38, 39, 40, 41, 42, 43, 44, 45, 46, 47, 48, 49, 50]\n"
     ]
    }
   ],
   "source": [
    "lst = [x for x in range(1,51)]\n",
    "print(lst)\n"
   ]
  },
  {
   "cell_type": "code",
   "execution_count": null,
   "metadata": {},
   "outputs": [],
   "source": []
  },
  {
   "cell_type": "code",
   "execution_count": null,
   "metadata": {},
   "outputs": [],
   "source": []
  },
  {
   "cell_type": "markdown",
   "metadata": {},
   "source": [
    "#### 3. Use a list comprehension to create and print a list containing all elements of the 10 x 4 array below."
   ]
  },
  {
   "cell_type": "code",
   "execution_count": 14,
   "metadata": {},
   "outputs": [
    {
     "name": "stdout",
     "output_type": "stream",
     "text": [
      "['[', '[', '[', '0', '.', '8', '4', '0', '6', '2', '1', '1', '7', ',', ' ', '0', '.', '4', '8', '0', '0', '6', '4', '5', '2', ',', ' ', '0', '.', '7', '8', '7', '6', '3', '2', '6', ',', ' ', '0', '.', '7', '7', '1', '0', '9', '6', '5', '4', ']', ',', ' ', '[', '0', '.', '4', '4', '4', '0', '9', '7', '9', '3', ',', ' ', '0', '.', '0', '9', '0', '1', '4', '5', '1', '6', ',', ' ', '0', '.', '8', '1', '8', '3', '5', '9', '1', '7', ',', ' ', '0', '.', '8', '7', '6', '4', '5', '4', '5', '6', ']', ',', ' ', '[', '0', '.', '7', '0', '6', '6', '5', '9', '7', ',', ' ', '0', '.', '0', '9', '6', '1', '0', '8', '7', '3', ',', ' ', '0', '.', '4', '1', '2', '4', '7', '9', '4', '7', ',', ' ', '0', '.', '5', '7', '4', '3', '3', '3', '8', '9', ']', ',', ' ', '[', '0', '.', '2', '9', '9', '6', '0', '8', '0', '7', ',', ' ', '0', '.', '4', '2', '3', '1', '5', '0', '2', '3', ',', ' ', '0', '.', '3', '4', '4', '5', '2', '5', '5', '7', ',', ' ', '0', '.', '4', '7', '5', '1', '0', '3', '5', ']', ',', ' ', '[', '0', '.', '1', '7', '0', '0', '3', '5', '6', '3', ',', ' ', '0', '.', '4', '6', '8', '4', '3', '9', '9', '8', ',', ' ', '0', '.', '9', '2', '7', '9', '6', '2', '5', '8', ',', ' ', '0', '.', '6', '9', '8', '1', '4', '6', '5', '4', ']', ',', ' ', '[', '0', '.', '4', '1', '2', '9', '0', '0', '5', '1', ',', ' ', '0', '.', '1', '9', '5', '6', '1', '0', '7', '1', ',', ' ', '0', '.', '1', '6', '2', '8', '4', '7', '8', '3', ',', ' ', '0', '.', '9', '7', '0', '1', '6', '2', '4', '8', ']', ',', ' ', '[', '0', '.', '7', '1', '7', '2', '5', '4', '0', '8', ',', ' ', '0', '.', '8', '7', '7', '0', '2', '7', '3', '8', ',', ' ', '0', '.', '3', '1', '2', '4', '4', '5', '9', '5', ',', ' ', '0', '.', '7', '6', '6', '1', '5', '4', '8', '7', ']', ',', ' ', '[', '0', '.', '2', '0', '7', '5', '4', '0', '3', '6', ',', ' ', '0', '.', '5', '7', '8', '7', '1', '8', '1', '2', ',', ' ', '0', '.', '0', '7', '2', '1', '4', '0', '6', '8', ',', ' ', '0', '.', '4', '0', '3', '5', '6', '0', '4', '8', ']', ',', ' ', '[', '0', '.', '1', '2', '1', '4', '9', '5', '5', '3', ',', ' ', '0', '.', '5', '3', '2', '2', '2', '4', '1', '7', ',', ' ', '0', '.', '9', '9', '7', '6', '8', '5', '5', ',', ' ', '0', '.', '1', '2', '5', '3', '6', '3', '4', '6', ']', ',', ' ', '[', '0', '.', '8', '0', '9', '3', '0', '0', '9', '9', ',', ' ', '0', '.', '5', '0', '9', '6', '2', '8', '4', '9', ',', ' ', '0', '.', '9', '4', '5', '5', '5', '1', '2', '6', ',', ' ', '0', '.', '3', '3', '3', '6', '4', '7', '6', '3', ']', ']', ']']\n"
     ]
    }
   ],
   "source": [
    "a = [[0.84062117, 0.48006452, 0.7876326 , 0.77109654],\n",
    "       [0.44409793, 0.09014516, 0.81835917, 0.87645456],\n",
    "       [0.7066597 , 0.09610873, 0.41247947, 0.57433389],\n",
    "       [0.29960807, 0.42315023, 0.34452557, 0.4751035 ],\n",
    "       [0.17003563, 0.46843998, 0.92796258, 0.69814654],\n",
    "       [0.41290051, 0.19561071, 0.16284783, 0.97016248],\n",
    "       [0.71725408, 0.87702738, 0.31244595, 0.76615487],\n",
    "       [0.20754036, 0.57871812, 0.07214068, 0.40356048],\n",
    "       [0.12149553, 0.53222417, 0.9976855 , 0.12536346],\n",
    "       [0.80930099, 0.50962849, 0.94555126, 0.33364763]];\n",
    "a = str(a)\n",
    "a = a.join(\"[]\")\n",
    "a = list(a)\n",
    "print(a)"
   ]
  },
  {
   "cell_type": "code",
   "execution_count": null,
   "metadata": {},
   "outputs": [],
   "source": []
  },
  {
   "cell_type": "code",
   "execution_count": null,
   "metadata": {},
   "outputs": [],
   "source": []
  },
  {
   "cell_type": "markdown",
   "metadata": {},
   "source": [
    "#### 4. Add a condition to the list comprehension above so that only values greater than or equal to 0.5 are printed."
   ]
  },
  {
   "cell_type": "code",
   "execution_count": null,
   "metadata": {},
   "outputs": [],
   "source": []
  },
  {
   "cell_type": "markdown",
   "metadata": {},
   "source": [
    "#### 5. Use a list comprehension to create and print a list containing all elements of the 5 x 2 x 3 array below."
   ]
  },
  {
   "cell_type": "code",
   "execution_count": 6,
   "metadata": {},
   "outputs": [],
   "source": [
    "b = [[[0.55867166, 0.06210792, 0.08147297],\n",
    "        [0.82579068, 0.91512478, 0.06833034]],\n",
    "\n",
    "       [[0.05440634, 0.65857693, 0.30296619],\n",
    "        [0.06769833, 0.96031863, 0.51293743]],\n",
    "\n",
    "       [[0.09143215, 0.71893382, 0.45850679],\n",
    "        [0.58256464, 0.59005654, 0.56266457]],\n",
    "\n",
    "       [[0.71600294, 0.87392666, 0.11434044],\n",
    "        [0.8694668 , 0.65669313, 0.10708681]],\n",
    "\n",
    "       [[0.07529684, 0.46470767, 0.47984544],\n",
    "        [0.65368638, 0.14901286, 0.23760688]]];"
   ]
  },
  {
   "cell_type": "code",
   "execution_count": null,
   "metadata": {},
   "outputs": [],
   "source": []
  },
  {
   "cell_type": "markdown",
   "metadata": {},
   "source": [
    "#### 6. Add a condition to the list comprehension above so that the last value in each subarray is printed, but only if it is less than or equal to 0.5."
   ]
  },
  {
   "cell_type": "code",
   "execution_count": null,
   "metadata": {},
   "outputs": [],
   "source": []
  },
  {
   "cell_type": "markdown",
   "metadata": {},
   "source": [
    "#### 7. Use a list comprehension to select and print the names of all CSV files in the */data* directory."
   ]
  },
  {
   "cell_type": "code",
   "execution_count": null,
   "metadata": {},
   "outputs": [],
   "source": []
  },
  {
   "cell_type": "markdown",
   "metadata": {},
   "source": [
    "### Bonus"
   ]
  },
  {
   "cell_type": "markdown",
   "metadata": {},
   "source": [
    "Try to solve these katas using list comprehensions."
   ]
  },
  {
   "cell_type": "markdown",
   "metadata": {},
   "source": [
    "**Easy**\n",
    "- [Insert values](https://www.codewars.com/kata/invert-values)\n",
    "- [Sum Square(n)](https://www.codewars.com/kata/square-n-sum)\n",
    "- [Digitize](https://www.codewars.com/kata/digitize)\n",
    "- [List filtering](https://www.codewars.com/kata/list-filtering)\n",
    "- [Arithmetic list](https://www.codewars.com/kata/541da001259d9ca85d000688)\n",
    "\n",
    "**Medium**\n",
    "- [Multiples of 3 or 5](https://www.codewars.com/kata/514b92a657cdc65150000006)\n",
    "- [Count of positives / sum of negatives](https://www.codewars.com/kata/count-of-positives-slash-sum-of-negatives)\n",
    "- [Categorize new member](https://www.codewars.com/kata/5502c9e7b3216ec63c0001aa)\n",
    "\n",
    "**Advanced**\n",
    "- [Queue time counter](https://www.codewars.com/kata/queue-time-counter)"
   ]
  }
 ],
 "metadata": {
  "kernelspec": {
   "display_name": "Python [conda env:jp_env] *",
   "language": "python",
   "name": "conda-env-jp_env-py"
  },
  "language_info": {
   "codemirror_mode": {
    "name": "ipython",
    "version": 3
   },
   "file_extension": ".py",
   "mimetype": "text/x-python",
   "name": "python",
   "nbconvert_exporter": "python",
   "pygments_lexer": "ipython3",
   "version": "3.7.11"
  }
 },
 "nbformat": 4,
 "nbformat_minor": 2
}
