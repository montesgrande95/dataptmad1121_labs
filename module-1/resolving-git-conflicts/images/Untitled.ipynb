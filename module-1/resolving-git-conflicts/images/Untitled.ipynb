{
 "cells": [
  {
   "cell_type": "markdown",
   "id": "e09476b3",
   "metadata": {},
   "source": [
    "#HOLA SOY PABLO MONTES"
   ]
  },
  {
   "cell_type": "code",
   "execution_count": null,
   "id": "8bf2c2c2",
   "metadata": {},
   "outputs": [],
   "source": [
    "\"este lab solo consistia en modificar algo\""
   ]
  }
 ],
 "metadata": {
  "kernelspec": {
   "display_name": "Python [conda env:jp_env] *",
   "language": "python",
   "name": "conda-env-jp_env-py"
  },
  "language_info": {
   "codemirror_mode": {
    "name": "ipython",
    "version": 3
   },
   "file_extension": ".py",
   "mimetype": "text/x-python",
   "name": "python",
   "nbconvert_exporter": "python",
   "pygments_lexer": "ipython3",
   "version": "3.7.11"
  }
 },
 "nbformat": 4,
 "nbformat_minor": 5
}
