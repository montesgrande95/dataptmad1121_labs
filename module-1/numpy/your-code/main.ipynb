{
 "cells": [
  {
   "cell_type": "markdown",
   "metadata": {},
   "source": [
    "# Introduction to NumPy\n",
    "\n",
    "\n",
    "#### 1. Import NumPy under the name np."
   ]
  },
  {
   "cell_type": "code",
   "execution_count": 1,
   "metadata": {},
   "outputs": [
    {
     "name": "stdout",
     "output_type": "stream",
     "text": [
      "Collecting package metadata (current_repodata.json): done\n",
      "Solving environment: done\n",
      "\n",
      "# All requested packages already installed.\n",
      "\n",
      "\n",
      "Note: you may need to restart the kernel to use updated packages.\n"
     ]
    }
   ],
   "source": [
    "conda install numpy \n"
   ]
  },
  {
   "cell_type": "code",
   "execution_count": 2,
   "metadata": {},
   "outputs": [],
   "source": [
    "import numpy as np"
   ]
  },
  {
   "cell_type": "markdown",
   "metadata": {},
   "source": [
    "#### 2. Print your NumPy version."
   ]
  },
  {
   "cell_type": "code",
   "execution_count": 7,
   "metadata": {},
   "outputs": [
    {
     "data": {
      "text/plain": [
       "'1.21.2'"
      ]
     },
     "execution_count": 7,
     "metadata": {},
     "output_type": "execute_result"
    }
   ],
   "source": [
    "np.version.version"
   ]
  },
  {
   "cell_type": "markdown",
   "metadata": {},
   "source": [
    "#### 3. Generate a 2x3x5 3-dimensional array with random values. Assign the array to variable *a*.\n",
    "**Challenge**: there are at least three easy ways that use numpy to generate random arrays. How many ways can you find?"
   ]
  },
  {
   "cell_type": "code",
   "execution_count": 6,
   "metadata": {},
   "outputs": [
    {
     "name": "stdout",
     "output_type": "stream",
     "text": [
      "[[[0.95319266 0.29670425 0.78138667 0.14718496 0.61770108]\n",
      "  [0.74032023 0.07570386 0.21740612 0.74016291 0.64176003]\n",
      "  [0.29943698 0.21591269 0.28059897 0.32245446 0.49739412]]\n",
      "\n",
      " [[0.60450011 0.37254651 0.14659301 0.10625039 0.6069402 ]\n",
      "  [0.61845089 0.11883135 0.38313065 0.27973307 0.84000253]\n",
      "  [0.3653002  0.42818214 0.87938378 0.47818047 0.66376546]]]\n"
     ]
    }
   ],
   "source": [
    "A = np.random.rand(2,3,5)\n",
    "print(A)\n"
   ]
  },
  {
   "cell_type": "code",
   "execution_count": 13,
   "metadata": {},
   "outputs": [
    {
     "name": "stdout",
     "output_type": "stream",
     "text": [
      "[[[2 2 3 4 0]\n",
      "  [2 1 2 0 0]\n",
      "  [0 2 1 1 1]]\n",
      "\n",
      " [[4 2 2 2 1]\n",
      "  [0 4 1 3 0]\n",
      "  [4 1 0 0 1]]]\n"
     ]
    }
   ],
   "source": [
    "A= np.random.randint(5, size=(2,3,5))\n",
    "print(A)"
   ]
  },
  {
   "cell_type": "code",
   "execution_count": 77,
   "metadata": {},
   "outputs": [
    {
     "name": "stdout",
     "output_type": "stream",
     "text": [
      "[[[0.95856774 0.96087724 0.96648907 0.45926907 0.45329858]\n",
      "  [0.95656004 0.96220884 0.65843688 0.93299772 0.28495049]\n",
      "  [0.73665896 0.7634428  0.51889668 0.66875606 0.05318205]]\n",
      "\n",
      " [[0.39446926 0.48164068 0.4313324  0.42102676 0.01541288]\n",
      "  [0.09194509 0.91799446 0.66368386 0.59534666 0.45231542]\n",
      "  [0.2117701  0.06547703 0.49650236 0.65004542 0.63252766]]]\n"
     ]
    }
   ],
   "source": [
    "A=np.random.rand(2,3,5)\n",
    "print(A)"
   ]
  },
  {
   "cell_type": "markdown",
   "metadata": {},
   "source": [
    "#### 4. Print *a*.\n"
   ]
  },
  {
   "cell_type": "code",
   "execution_count": 78,
   "metadata": {},
   "outputs": [
    {
     "name": "stdout",
     "output_type": "stream",
     "text": [
      "[[[0.95856774 0.96087724 0.96648907 0.45926907 0.45329858]\n",
      "  [0.95656004 0.96220884 0.65843688 0.93299772 0.28495049]\n",
      "  [0.73665896 0.7634428  0.51889668 0.66875606 0.05318205]]\n",
      "\n",
      " [[0.39446926 0.48164068 0.4313324  0.42102676 0.01541288]\n",
      "  [0.09194509 0.91799446 0.66368386 0.59534666 0.45231542]\n",
      "  [0.2117701  0.06547703 0.49650236 0.65004542 0.63252766]]]\n",
      "(2, 3, 5)\n"
     ]
    }
   ],
   "source": [
    "print(A)\n",
    "print(A.shape)"
   ]
  },
  {
   "cell_type": "code",
   "execution_count": null,
   "metadata": {},
   "outputs": [],
   "source": []
  },
  {
   "cell_type": "markdown",
   "metadata": {},
   "source": [
    "#### 5. Create a 5x2x3 3-dimensional array with all values equaling 1. Assign the array to variable *b*."
   ]
  },
  {
   "cell_type": "code",
   "execution_count": 79,
   "metadata": {},
   "outputs": [
    {
     "name": "stdout",
     "output_type": "stream",
     "text": [
      "[[[1. 1. 1.]\n",
      "  [1. 1. 1.]]\n",
      "\n",
      " [[1. 1. 1.]\n",
      "  [1. 1. 1.]]\n",
      "\n",
      " [[1. 1. 1.]\n",
      "  [1. 1. 1.]]\n",
      "\n",
      " [[1. 1. 1.]\n",
      "  [1. 1. 1.]]\n",
      "\n",
      " [[1. 1. 1.]\n",
      "  [1. 1. 1.]]]\n"
     ]
    },
    {
     "data": {
      "text/plain": [
       "3"
      ]
     },
     "execution_count": 79,
     "metadata": {},
     "output_type": "execute_result"
    }
   ],
   "source": [
    "b = np.ones((5,2,3))\n",
    "print(b)\n",
    "b.ndim\n"
   ]
  },
  {
   "cell_type": "markdown",
   "metadata": {},
   "source": [
    "#### 6. Print *b*.\n"
   ]
  },
  {
   "cell_type": "code",
   "execution_count": 80,
   "metadata": {},
   "outputs": [
    {
     "name": "stdout",
     "output_type": "stream",
     "text": [
      "[[[1. 1. 1.]\n",
      "  [1. 1. 1.]]\n",
      "\n",
      " [[1. 1. 1.]\n",
      "  [1. 1. 1.]]\n",
      "\n",
      " [[1. 1. 1.]\n",
      "  [1. 1. 1.]]\n",
      "\n",
      " [[1. 1. 1.]\n",
      "  [1. 1. 1.]]\n",
      "\n",
      " [[1. 1. 1.]\n",
      "  [1. 1. 1.]]]\n",
      "(5, 2, 3)\n"
     ]
    }
   ],
   "source": [
    "print(b)\n",
    "print(b.shape)"
   ]
  },
  {
   "cell_type": "code",
   "execution_count": null,
   "metadata": {},
   "outputs": [],
   "source": []
  },
  {
   "cell_type": "code",
   "execution_count": null,
   "metadata": {},
   "outputs": [],
   "source": []
  },
  {
   "cell_type": "markdown",
   "metadata": {},
   "source": [
    "#### 7. Do *a* and *b* have the same size? How do you prove that in Python code?"
   ]
  },
  {
   "cell_type": "code",
   "execution_count": 81,
   "metadata": {},
   "outputs": [
    {
     "name": "stdout",
     "output_type": "stream",
     "text": [
      "False\n"
     ]
    }
   ],
   "source": [
    "print(np.array_equal(A,b))"
   ]
  },
  {
   "cell_type": "markdown",
   "metadata": {},
   "source": [
    "#### 8. Are you able to add *a* and *b*? Why or why not?\n"
   ]
  },
  {
   "cell_type": "code",
   "execution_count": 82,
   "metadata": {},
   "outputs": [
    {
     "ename": "ValueError",
     "evalue": "all the input array dimensions for the concatenation axis must match exactly, but along dimension 1, the array at index 0 has size 3 and the array at index 1 has size 2",
     "output_type": "error",
     "traceback": [
      "\u001b[0;31m---------------------------------------------------------------------------\u001b[0m",
      "\u001b[0;31mValueError\u001b[0m                                Traceback (most recent call last)",
      "\u001b[0;32m/var/folders/y7/0kpvlnh10_q_n3y4x22wmk840000gn/T/ipykernel_41300/1664593811.py\u001b[0m in \u001b[0;36m<module>\u001b[0;34m\u001b[0m\n\u001b[0;32m----> 1\u001b[0;31m \u001b[0mc\u001b[0m \u001b[0;34m=\u001b[0m \u001b[0mnp\u001b[0m\u001b[0;34m.\u001b[0m\u001b[0mconcatenate\u001b[0m\u001b[0;34m(\u001b[0m\u001b[0;34m(\u001b[0m\u001b[0mA\u001b[0m\u001b[0;34m,\u001b[0m\u001b[0mb\u001b[0m\u001b[0;34m)\u001b[0m\u001b[0;34m)\u001b[0m\u001b[0;34m\u001b[0m\u001b[0;34m\u001b[0m\u001b[0m\n\u001b[0m\u001b[1;32m      2\u001b[0m \u001b[0;34m\u001b[0m\u001b[0m\n\u001b[1;32m      3\u001b[0m \u001b[0;31m#WE CANT COMBINE, CAUSE OF THE SHAPES\u001b[0m\u001b[0;34m\u001b[0m\u001b[0;34m\u001b[0m\u001b[0;34m\u001b[0m\u001b[0m\n\u001b[1;32m      4\u001b[0m \u001b[0;34m\u001b[0m\u001b[0m\n",
      "\u001b[0;32m<__array_function__ internals>\u001b[0m in \u001b[0;36mconcatenate\u001b[0;34m(*args, **kwargs)\u001b[0m\n",
      "\u001b[0;31mValueError\u001b[0m: all the input array dimensions for the concatenation axis must match exactly, but along dimension 1, the array at index 0 has size 3 and the array at index 1 has size 2"
     ]
    }
   ],
   "source": [
    "c = np.concatenate((A,b))\n",
    "\n",
    "#WE CANT COMBINE, CAUSE OF THE SHAPES\n",
    "\n"
   ]
  },
  {
   "cell_type": "markdown",
   "metadata": {},
   "source": [
    "#### 9. Transpose *b* so that it has the same structure of *a* (i.e. become a 2x3x5 array). Assign the transposed array to variable *c*."
   ]
  },
  {
   "cell_type": "code",
   "execution_count": 83,
   "metadata": {},
   "outputs": [
    {
     "name": "stdout",
     "output_type": "stream",
     "text": [
      "[[[1. 1. 1. 1. 1.]\n",
      "  [1. 1. 1. 1. 1.]\n",
      "  [1. 1. 1. 1. 1.]]\n",
      "\n",
      " [[1. 1. 1. 1. 1.]\n",
      "  [1. 1. 1. 1. 1.]\n",
      "  [1. 1. 1. 1. 1.]]]\n",
      "(2, 3, 5)\n",
      "(5, 2, 3)\n",
      "(2, 3, 5)\n"
     ]
    }
   ],
   "source": [
    "c = np.transpose(b,(1,2,0))\n",
    "print(c)\n",
    "print(A.shape)\n",
    "print(b.shape)\n",
    "print(c.shape)\n"
   ]
  },
  {
   "cell_type": "code",
   "execution_count": null,
   "metadata": {},
   "outputs": [],
   "source": []
  },
  {
   "cell_type": "code",
   "execution_count": null,
   "metadata": {},
   "outputs": [],
   "source": []
  },
  {
   "cell_type": "code",
   "execution_count": null,
   "metadata": {},
   "outputs": [],
   "source": []
  },
  {
   "cell_type": "markdown",
   "metadata": {},
   "source": [
    "#### 10. Try to add *a* and *c*. Now it should work. Assign the sum to variable *d*. But why does it work now?"
   ]
  },
  {
   "cell_type": "code",
   "execution_count": 87,
   "metadata": {},
   "outputs": [
    {
     "name": "stdout",
     "output_type": "stream",
     "text": [
      "[[[3.87570321 3.88263171 3.89946722 2.3778072  2.35989574]\n",
      "  [3.86968012 3.88662651 2.97531065 3.79899316 1.85485146]\n",
      "  [3.20997689 3.29032841 2.55669003 3.00626818 1.15954614]]\n",
      "\n",
      " [[2.18340778 2.44492205 2.29399721 2.26308029 1.04623864]\n",
      "  [1.27583526 3.75398337 2.99105159 2.78603998 2.35694626]\n",
      "  [1.63531029 1.19643108 2.48950707 2.95013626 2.89758299]]]\n",
      "(2, 3, 5)\n",
      "(2, 3, 5)\n"
     ]
    }
   ],
   "source": [
    "\n",
    "\n",
    "d = A+c\n",
    "print(d)\n",
    "\n",
    "print(np.shape(A))\n",
    "print(np.shape(c))\n",
    "\n"
   ]
  },
  {
   "cell_type": "markdown",
   "metadata": {},
   "source": [
    "#### 11. Print *a* and *d*. Notice the difference and relation of the two array in terms of the values? Explain."
   ]
  },
  {
   "cell_type": "code",
   "execution_count": 88,
   "metadata": {},
   "outputs": [
    {
     "name": "stdout",
     "output_type": "stream",
     "text": [
      "[[[0.95856774 0.96087724 0.96648907 0.45926907 0.45329858]\n",
      "  [0.95656004 0.96220884 0.65843688 0.93299772 0.28495049]\n",
      "  [0.73665896 0.7634428  0.51889668 0.66875606 0.05318205]]\n",
      "\n",
      " [[0.39446926 0.48164068 0.4313324  0.42102676 0.01541288]\n",
      "  [0.09194509 0.91799446 0.66368386 0.59534666 0.45231542]\n",
      "  [0.2117701  0.06547703 0.49650236 0.65004542 0.63252766]]]\n",
      "[[[3.87570321 3.88263171 3.89946722 2.3778072  2.35989574]\n",
      "  [3.86968012 3.88662651 2.97531065 3.79899316 1.85485146]\n",
      "  [3.20997689 3.29032841 2.55669003 3.00626818 1.15954614]]\n",
      "\n",
      " [[2.18340778 2.44492205 2.29399721 2.26308029 1.04623864]\n",
      "  [1.27583526 3.75398337 2.99105159 2.78603998 2.35694626]\n",
      "  [1.63531029 1.19643108 2.48950707 2.95013626 2.89758299]]]\n"
     ]
    }
   ],
   "source": [
    "print(A)\n",
    "print(d)\n",
    "\n"
   ]
  },
  {
   "cell_type": "code",
   "execution_count": null,
   "metadata": {},
   "outputs": [],
   "source": []
  },
  {
   "cell_type": "markdown",
   "metadata": {},
   "source": [
    "#### 12. Multiply *a* and *c*. Assign the result to *e*."
   ]
  },
  {
   "cell_type": "code",
   "execution_count": 95,
   "metadata": {},
   "outputs": [
    {
     "name": "stdout",
     "output_type": "stream",
     "text": [
      "[[[2.79627194 2.80744737 2.83469134 0.88112522 0.86425778]\n",
      "  [2.78657427 2.81390054 1.52551514 2.67396721 0.44734405]\n",
      "  [1.82199182 1.92913263 1.0574042  1.5632254  0.05883871]]\n",
      "\n",
      " [[0.70568125 0.94559618 0.80342769 0.77555384 0.01588799]\n",
      "  [0.10885288 2.6034221  1.5446364  1.30422196 0.8614939 ]\n",
      "  [0.30146325 0.07405151 0.98953154 1.49516351 1.43271015]]]\n",
      "3\n",
      "3\n"
     ]
    }
   ],
   "source": [
    "\n",
    "e = A*c\n",
    "print(e)\n",
    "print(np.ndim(A))\n",
    "print(np.ndim(c))\n"
   ]
  },
  {
   "cell_type": "markdown",
   "metadata": {},
   "source": [
    "#### 13. Does *e* equal to *a*? Why or why not?\n"
   ]
  },
  {
   "cell_type": "code",
   "execution_count": 98,
   "metadata": {},
   "outputs": [
    {
     "name": "stdout",
     "output_type": "stream",
     "text": [
      "[[[0.95856774 0.96087724 0.96648907 0.45926907 0.45329858]\n",
      "  [0.95656004 0.96220884 0.65843688 0.93299772 0.28495049]\n",
      "  [0.73665896 0.7634428  0.51889668 0.66875606 0.05318205]]\n",
      "\n",
      " [[0.39446926 0.48164068 0.4313324  0.42102676 0.01541288]\n",
      "  [0.09194509 0.91799446 0.66368386 0.59534666 0.45231542]\n",
      "  [0.2117701  0.06547703 0.49650236 0.65004542 0.63252766]]]\n",
      "[[[2.79627194 2.80744737 2.83469134 0.88112522 0.86425778]\n",
      "  [2.78657427 2.81390054 1.52551514 2.67396721 0.44734405]\n",
      "  [1.82199182 1.92913263 1.0574042  1.5632254  0.05883871]]\n",
      "\n",
      " [[0.70568125 0.94559618 0.80342769 0.77555384 0.01588799]\n",
      "  [0.10885288 2.6034221  1.5446364  1.30422196 0.8614939 ]\n",
      "  [0.30146325 0.07405151 0.98953154 1.49516351 1.43271015]]]\n",
      "False\n"
     ]
    }
   ],
   "source": [
    "\n",
    "print(A)\n",
    "print(e)\n",
    "\n",
    "\n",
    "\n",
    "print(np.array_equal(A,e))\n"
   ]
  },
  {
   "cell_type": "markdown",
   "metadata": {},
   "source": [
    "#### 14. Identify the max, min, and mean values in *d*. Assign those values to variables *d_max*, *d_min* and *d_mean*."
   ]
  },
  {
   "cell_type": "code",
   "execution_count": 101,
   "metadata": {},
   "outputs": [
    {
     "name": "stdout",
     "output_type": "stream",
     "text": [
      "3.899467223866904\n",
      "1.046238640105\n",
      "2.6856082255894553\n"
     ]
    }
   ],
   "source": [
    "d_min = np.min(d)\n",
    "d_max = np.max(d)\n",
    "d_mean = np.mean(d)\n",
    "\n",
    "print(d_max)\n",
    "print(d_min)\n",
    "print(d_mean)"
   ]
  },
  {
   "cell_type": "markdown",
   "metadata": {},
   "source": [
    "#### 15. Now we want to label the values in *d*. First create an empty array *f* with the same shape (i.e. 2x3x5) as *d* using `np.empty`.\n"
   ]
  },
  {
   "cell_type": "code",
   "execution_count": 107,
   "metadata": {},
   "outputs": [
    {
     "name": "stdout",
     "output_type": "stream",
     "text": [
      "[[[2.79627194 2.80744737 2.83469134 0.88112522 0.86425778]\n",
      "  [2.78657427 2.81390054 1.52551514 2.67396721 0.44734405]\n",
      "  [1.82199182 1.92913263 1.0574042  1.5632254  0.05883871]]\n",
      "\n",
      " [[0.70568125 0.94559618 0.80342769 0.77555384 0.01588799]\n",
      "  [0.10885288 2.6034221  1.5446364  1.30422196 0.8614939 ]\n",
      "  [0.30146325 0.07405151 0.98953154 1.49516351 1.43271015]]]\n"
     ]
    }
   ],
   "source": [
    "f = np.empty((2,3,5))\n",
    "print(f)\n",
    "#EN REALIDAD ESE ARRAY ES EMPTY PERO ME TIENE QUE MOSTRAR ALGO, POR ESO ME PONE NUMEROS ALEATORIOS."
   ]
  },
  {
   "cell_type": "markdown",
   "metadata": {},
   "source": [
    "#### 16. Populate the values in *f*. \n",
    "\n",
    "For each value in *d*, if it's larger than *d_min* but smaller than *d_mean*, assign 25 to the corresponding value in *f*. If a value in *d* is larger than *d_mean* but smaller than *d_max*, assign 75 to the corresponding value in *f*. If a value equals to *d_mean*, assign 50 to the corresponding value in *f*. Assign 0 to the corresponding value(s) in *f* for *d_min* in *d*. Assign 100 to the corresponding value(s) in *f* for *d_max* in *d*. In the end, f should have only the following values: 0, 25, 50, 75, and 100.\n",
    "\n",
    "**Note**: you don't have to use Numpy in this question."
   ]
  },
  {
   "cell_type": "code",
   "execution_count": 114,
   "metadata": {},
   "outputs": [
    {
     "data": {
      "text/plain": [
       "25.0"
      ]
     },
     "execution_count": 114,
     "metadata": {},
     "output_type": "execute_result"
    }
   ],
   "source": []
  },
  {
   "cell_type": "code",
   "execution_count": 122,
   "metadata": {},
   "outputs": [
    {
     "name": "stdout",
     "output_type": "stream",
     "text": [
      "[[[ 75  75 100  25  25]\n",
      "  [ 75  75  75  75  25]\n",
      "  [ 75  75  25  75  25]]\n",
      "\n",
      " [[ 25  25  25  25   0]\n",
      "  [ 25  75  75  75  25]\n",
      "  [ 25  25  25  75  75]]]\n"
     ]
    }
   ],
   "source": [
    "f =[]\n",
    "for i in np.nditer(d):\n",
    "    if i>d_min and i<d_mean:\n",
    "        f.append(25)\n",
    "    elif i>d_mean and i <d_max:\n",
    "        f.append(75)\n",
    "    elif i == d_mean:\n",
    "        f.append(50)\n",
    "    elif i == d_min:\n",
    "        f.append(0)\n",
    "    elif i== d_max:\n",
    "        f.append(100)\n",
    "f = np.reshape(f,(2,3,5))\n",
    "print(f)\n",
    "\n"
   ]
  },
  {
   "cell_type": "markdown",
   "metadata": {},
   "source": [
    "#### 17. Print *d* and *f*. Do you have your expected *f*?\n",
    "For instance, if your *d* is:\n",
    "```python\n",
    "[[[1.85836099, 1.67064465, 1.62576044, 1.40243961, 1.88454931],\n",
    "[1.75354326, 1.69403643, 1.36729252, 1.61415071, 1.12104981],\n",
    "[1.72201435, 1.1862918 , 1.87078449, 1.7726778 , 1.88180042]],\n",
    "[[1.44747908, 1.31673383, 1.02000951, 1.52218947, 1.97066381],\n",
    "[1.79129243, 1.74983003, 1.96028037, 1.85166831, 1.65450881],\n",
    "[1.18068344, 1.9587381 , 1.00656599, 1.93402165, 1.73514584]]]\n",
    "```\n",
    "Your *f* should be:\n",
    "```python\n",
    "[[[ 75.,  75.,  75.,  25.,  75.],\n",
    "[ 75.,  75.,  25.,  25.,  25.],\n",
    "[ 75.,  25.,  75.,  75.,  75.]],\n",
    "[[ 25.,  25.,  25.,  25., 100.],\n",
    "[ 75.,  75.,  75.,  75.,  75.],\n",
    "[ 25.,  75.,   0.,  75.,  75.]]]\n",
    "```"
   ]
  },
  {
   "cell_type": "code",
   "execution_count": 123,
   "metadata": {},
   "outputs": [
    {
     "name": "stdout",
     "output_type": "stream",
     "text": [
      "[[[3.87570321 3.88263171 3.89946722 2.3778072  2.35989574]\n",
      "  [3.86968012 3.88662651 2.97531065 3.79899316 1.85485146]\n",
      "  [3.20997689 3.29032841 2.55669003 3.00626818 1.15954614]]\n",
      "\n",
      " [[2.18340778 2.44492205 2.29399721 2.26308029 1.04623864]\n",
      "  [1.27583526 3.75398337 2.99105159 2.78603998 2.35694626]\n",
      "  [1.63531029 1.19643108 2.48950707 2.95013626 2.89758299]]]\n",
      "[[[ 75  75 100  25  25]\n",
      "  [ 75  75  75  75  25]\n",
      "  [ 75  75  25  75  25]]\n",
      "\n",
      " [[ 25  25  25  25   0]\n",
      "  [ 25  75  75  75  25]\n",
      "  [ 25  25  25  75  75]]]\n"
     ]
    }
   ],
   "source": [
    "print(d)\n",
    "print(f)"
   ]
  },
  {
   "cell_type": "code",
   "execution_count": null,
   "metadata": {},
   "outputs": [],
   "source": []
  },
  {
   "cell_type": "markdown",
   "metadata": {},
   "source": [
    "#### 18. Bonus question: instead of using numbers (i.e. 0, 25, 50, 75, and 100), use string values  (\"A\", \"B\", \"C\", \"D\", and \"E\") to label the array elements. For the example above, the expected result is:\n",
    "\n",
    "```python\n",
    "[[[ 'D',  'D',  'D',  'B',  'D'],\n",
    "[ 'D',  'D',  'B',  'B',  'B'],\n",
    "[ 'D',  'B',  'D',  'D',  'D']],\n",
    "[[ 'B',  'B',  'B',  'B',  'E'],\n",
    "[ 'D',  'D',  'D',  'D',  'D'],\n",
    "[ 'B',  'D',   'A',  'D', 'D']]]\n",
    "```\n",
    "**Note**: you don't have to use Numpy in this question."
   ]
  },
  {
   "cell_type": "code",
   "execution_count": null,
   "metadata": {},
   "outputs": [],
   "source": [
    "# your code here"
   ]
  }
 ],
 "metadata": {
  "kernelspec": {
   "display_name": "Python [conda env:ironhack]",
   "language": "python",
   "name": "conda-env-ironhack-py"
  },
  "language_info": {
   "codemirror_mode": {
    "name": "ipython",
    "version": 3
   },
   "file_extension": ".py",
   "mimetype": "text/x-python",
   "name": "python",
   "nbconvert_exporter": "python",
   "pygments_lexer": "ipython3",
   "version": "3.7.11"
  }
 },
 "nbformat": 4,
 "nbformat_minor": 2
}
